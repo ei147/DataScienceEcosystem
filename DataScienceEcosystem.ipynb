{
 "cells": [
  {
   "cell_type": "markdown",
   "id": "0e230783-5c25-4b13-a54e-e2cbc68e67a3",
   "metadata": {},
   "source": [
    "# Data Science Tools and Ecosystem "
   ]
  },
  {
   "cell_type": "markdown",
   "id": "22bc8848-522c-480e-982d-5682998fd74e",
   "metadata": {},
   "source": [
    "In this notebook, Data Science Tools and Ecosystem are summarized."
   ]
  },
  {
   "cell_type": "markdown",
   "id": "69280c75-485f-45dd-9b9c-a88f6fc8ad7d",
   "metadata": {},
   "source": [
    "__Objectives__\n",
    "* Add comments in cells\n",
    "* absEvaluating arithmetic expressions in Python\n",
    "* List popular languages for Data Science\n",
    "* List popular librariers for Data Science"
   ]
  },
  {
   "cell_type": "markdown",
   "id": "5477182b-fd6b-49fc-a850-8bc393c5533a",
   "metadata": {},
   "source": [
    "Some of the popular languages that Data Scientists use are:\n",
    "1. Python\n",
    "2. R\n",
    "3. SQL"
   ]
  },
  {
   "cell_type": "markdown",
   "id": "55ab3357-75a3-481f-9f19-bfc592d5ddd4",
   "metadata": {},
   "source": [
    "Some of the commonly used libraries used by Data Scientists include:\n",
    "1. Pandas\n",
    "2. Numpy\n",
    "3. Matplotlib"
   ]
  },
  {
   "cell_type": "markdown",
   "id": "6bec3c6f-b555-495f-8aa9-dcb2de1c65b7",
   "metadata": {},
   "source": [
    "|Data Science Tools|\n",
    "|---|\n",
    "|Jupyter Notebook|\n",
    "|RStudio|\n",
    "|Apache Spark|"
   ]
  },
  {
   "cell_type": "markdown",
   "id": "41272b49-f85c-433d-bed6-c4ef97659a97",
   "metadata": {},
   "source": [
    "### Below are a few examples of evaluating arithmetic expressions in Python.\n"
   ]
  },
  {
   "cell_type": "code",
   "execution_count": 2,
   "id": "29fe1ad3-f1af-4845-abbb-ce7abbdd3d5e",
   "metadata": {},
   "outputs": [
    {
     "data": {
      "text/plain": [
       "8"
      ]
     },
     "execution_count": 2,
     "metadata": {},
     "output_type": "execute_result"
    }
   ],
   "source": [
    "3+5"
   ]
  },
  {
   "cell_type": "code",
   "execution_count": 3,
   "id": "51c3c4f7-7c17-4993-a2ea-6780f12f2fc7",
   "metadata": {},
   "outputs": [
    {
     "data": {
      "text/plain": [
       "6.0"
      ]
     },
     "execution_count": 3,
     "metadata": {},
     "output_type": "execute_result"
    }
   ],
   "source": [
    "(3*4)/2"
   ]
  },
  {
   "cell_type": "code",
   "execution_count": 4,
   "id": "373c4653-bb54-4fcb-bb84-2c6a1a13ba5a",
   "metadata": {},
   "outputs": [
    {
     "data": {
      "text/plain": [
       "0.6"
      ]
     },
     "execution_count": 4,
     "metadata": {},
     "output_type": "execute_result"
    }
   ],
   "source": [
    "3/5"
   ]
  },
  {
   "cell_type": "code",
   "execution_count": 5,
   "id": "e2f68aa4-79a3-4fa3-a174-9c9a8f0b99ed",
   "metadata": {},
   "outputs": [
    {
     "data": {
      "text/plain": [
       "0"
      ]
     },
     "execution_count": 5,
     "metadata": {},
     "output_type": "execute_result"
    }
   ],
   "source": [
    "5-5"
   ]
  },
  {
   "cell_type": "code",
   "execution_count": 6,
   "id": "5ccd7d66-221c-4ad9-888c-c6f6357c85de",
   "metadata": {},
   "outputs": [
    {
     "data": {
      "text/plain": [
       "17"
      ]
     },
     "execution_count": 6,
     "metadata": {},
     "output_type": "execute_result"
    }
   ],
   "source": [
    "#This a simple arithmetic expression to mutiply then add integers.\n",
    "(3*4)+5"
   ]
  },
  {
   "cell_type": "code",
   "execution_count": 7,
   "id": "346f51a4-85de-4f52-9625-5386ca18655d",
   "metadata": {},
   "outputs": [
    {
     "data": {
      "text/plain": [
       "3.3333333333333335"
      ]
     },
     "execution_count": 7,
     "metadata": {},
     "output_type": "execute_result"
    }
   ],
   "source": [
    "#This will convert 200 minutes to hours by diving by 60.\n",
    "200/60"
   ]
  },
  {
   "cell_type": "markdown",
   "id": "d5d29e94-1997-4743-8980-e48064a91426",
   "metadata": {},
   "source": [
    "## Author\n",
    "Erdal Inceler"
   ]
  }
 ],
 "metadata": {
  "kernelspec": {
   "display_name": "Python 3 (ipykernel)",
   "language": "python",
   "name": "python3"
  },
  "language_info": {
   "codemirror_mode": {
    "name": "ipython",
    "version": 3
   },
   "file_extension": ".py",
   "mimetype": "text/x-python",
   "name": "python",
   "nbconvert_exporter": "python",
   "pygments_lexer": "ipython3",
   "version": "3.11.9"
  }
 },
 "nbformat": 4,
 "nbformat_minor": 5
}
